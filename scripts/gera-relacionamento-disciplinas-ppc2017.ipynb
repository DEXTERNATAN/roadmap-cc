{
 "cells": [
  {
   "cell_type": "code",
   "execution_count": 66,
   "metadata": {},
   "outputs": [],
   "source": [
    "import pandas as pd\n",
    "import numpy as np"
   ]
  },
  {
   "cell_type": "code",
   "execution_count": 67,
   "metadata": {
    "scrolled": true
   },
   "outputs": [],
   "source": [
    "df = pd.read_csv('../data/disciplinas-ppc-2017.csv')\n",
    "\n",
    "arestas = df.pre_requisitos.apply(lambda x: pd.Series(np.nan if str(x) == \"-\" else str(x).split(\",\"))) \\\n",
    "    .merge(df, right_index = True, left_index = True) \\\n",
    "    .drop(list(set(df) - set(['codigo'])), axis = 1) \\\n",
    "    .melt(id_vars = ['codigo'], value_name = 'pre_requisito') \\\n",
    "    .drop('variable', axis = 1) \\\n",
    "    .dropna()\n",
    "\n",
    "arestas.columns = ['cod_disciplina', 'cod_pre_requisito']\n",
    "arestas.to_csv('../data/relacionamentos-disciplinas-ppc2017.csv', index=False)"
   ]
  },
  {
   "cell_type": "code",
   "execution_count": null,
   "metadata": {},
   "outputs": [],
   "source": []
  }
 ],
 "metadata": {
  "kernelspec": {
   "display_name": "Python 3",
   "language": "python",
   "name": "python3"
  },
  "language_info": {
   "codemirror_mode": {
    "name": "ipython",
    "version": 3
   },
   "file_extension": ".py",
   "mimetype": "text/x-python",
   "name": "python",
   "nbconvert_exporter": "python",
   "pygments_lexer": "ipython3",
   "version": "3.6.5"
  }
 },
 "nbformat": 4,
 "nbformat_minor": 2
}
